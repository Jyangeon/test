{
 "cells": [
  {
   "cell_type": "code",
   "execution_count": 1,
   "id": "0b10eed7-3ff6-498c-acba-91b20ce17829",
   "metadata": {},
   "outputs": [],
   "source": [
    "import pandas as pd\n",
    "import numpy as np\n",
    "import os\n",
    "import re\n",
    "import matplotlib.pyplot as plt\n",
    "from plotly.subplots import make_subplots\n",
    "import plotly.graph_objects as go"
   ]
  },
  {
   "cell_type": "markdown",
   "id": "1917e53d-738c-4d3b-8e19-79cc191e0f92",
   "metadata": {
    "tags": []
   },
   "source": [
    "# 데이터 전처리"
   ]
  },
  {
   "cell_type": "markdown",
   "id": "cd9c6fd0-7a8a-4548-91c5-4539806badce",
   "metadata": {
    "tags": [],
    "toc-hr-collapsed": true
   },
   "source": [
    "## No Seal"
   ]
  },
  {
   "cell_type": "code",
   "execution_count": 2,
   "id": "1f234423-e93f-4d0d-8b3d-3fb03a85929c",
   "metadata": {},
   "outputs": [
    {
     "data": {
      "text/plain": [
       "0.05"
      ]
     },
     "execution_count": 2,
     "metadata": {},
     "output_type": "execute_result"
    }
   ],
   "source": [
    "round(0.05,2)"
   ]
  },
  {
   "cell_type": "code",
   "execution_count": 24,
   "id": "d9e74504-7639-4423-9057-015092544bde",
   "metadata": {},
   "outputs": [],
   "source": [
    "folder_path = 'D:/data/No Seal'\n",
    "file_list = os.listdir('D:/data/No Seal')\n",
    "ab_file = file_list\n",
    "\n",
    "df_ab = []\n",
    "df = pd.DataFrame()\n",
    "\n",
    "for i in range(len(file_list)):\n",
    "    #파일 불러오기\n",
    "    file_path = os.path.join(folder_path, file_list[i]) \n",
    "    df_file = pd.read_csv(file_path, sep='\\t', skiprows=range(9))\n",
    "    \n",
    "    #필요없는 변수 제거 및 전처리\n",
    "    df_file = df_file.shift(1, axis=1)\n",
    "    df_file.drop(['      No','Position #2', 'Velocity #2', '   NFLow'], axis=1, inplace=True) #불필요 변수 제거\n",
    "    df_file['Position #1'] = - df_file['Position #1'] + abs(df_file['Position #1'].max()) # Position 변수 전처리\n",
    "    df_file['Velocity #1'] = - df_file['Velocity #1']\n",
    "    \n",
    "    # 파일 이름에서 HC, RC, Unit 값을 추출\n",
    "    file_name = file_list[i]\n",
    "    hc_value = re.search(r'HC([\\d.]+)', file_name).group(1)\n",
    "    rc_value = re.search(r'RC([\\d.]+)', file_name).group(1)\n",
    "    unit_value = re.search(r'Unit([\\d.]+)', file_name).group(1)\n",
    "    \n",
    "    # HC와 RC 값을 데이터프레임에 추가\n",
    "    df_file['HC'] = float(hc_value)\n",
    "    df_file['RC'] = float(rc_value)\n",
    "    df_file['Unit'] = float(unit_value)    \n",
    "    \n",
    "    # 같은 데이터 파일끼리 합치기    \n",
    "    df = pd.concat([df, df_file])\n",
    "    \n",
    "    if i + 1 == len(file_list) or file_list[i + 1].endswith('_0.xls'):\n",
    "        \n",
    "        cut = None        \n",
    "        for j in range(len(df)):\n",
    "            if (df['Position #1'].iloc[j] < 1):  # 정상적이지 않은 실험 부분 잘라내기\n",
    "                cut = j\n",
    "                break\n",
    "                \n",
    "        df = df[cut:].reset_index(drop = True)\n",
    "        \n",
    "        # 왕복 운동의 방향 변수 생성\n",
    "        # 1은 전진, 0은 후퇴\n",
    "        df['dir'] = None\n",
    "\n",
    "        df.loc[round(df['Velocity #1'],2) >= 0.01, 'dir'] = 1\n",
    "        df.loc[round(df['Velocity #1'],2) <= -0.01, 'dir'] = 0\n",
    "        \n",
    "        if df.lo\n",
    "        \n",
    "        for k in range(1, len(df)):\n",
    "            if df.loc[k, 'dir'] == None:\n",
    "                df.loc[k, 'dir'] = df.loc[k - 1, 'dir']\n",
    "        \n",
    "        # flow 변수 전처리                \n",
    "        df.loc[df['dir'] == 1, 'Flow(F)'] = df.loc[df['dir'] == 1, ' Flow(F)'] * 1\n",
    "        df.loc[df['dir'] == 0, 'Flow(F)'] = df.loc[df['dir'] == 0, ' Flow(F)'] * -1\n",
    "\n",
    "        df.loc[df['dir'] == 0, 'Flow(B)'] = df.loc[df['dir'] == 0, ' Flow(B)'] * 1\n",
    "        df.loc[df['dir'] == 1, 'Flow(B)'] = df.loc[df['dir'] == 1, ' Flow(B)'] * -1                \n",
    "\n",
    "        df_ab.append(df)\n",
    "        df = pd.DataFrame()"
   ]
  },
  {
   "cell_type": "code",
   "execution_count": 4,
   "id": "d659beb4-4b0d-4828-9154-a2793503aec6",
   "metadata": {},
   "outputs": [
    {
     "data": {
      "text/html": [
       "<div>\n",
       "<style scoped>\n",
       "    .dataframe tbody tr th:only-of-type {\n",
       "        vertical-align: middle;\n",
       "    }\n",
       "\n",
       "    .dataframe tbody tr th {\n",
       "        vertical-align: top;\n",
       "    }\n",
       "\n",
       "    .dataframe thead th {\n",
       "        text-align: right;\n",
       "    }\n",
       "</style>\n",
       "<table border=\"1\" class=\"dataframe\">\n",
       "  <thead>\n",
       "    <tr style=\"text-align: right;\">\n",
       "      <th></th>\n",
       "      <th>Time (sec)</th>\n",
       "      <th>Position #1</th>\n",
       "      <th>Flow(F)</th>\n",
       "      <th>Flow(B)</th>\n",
       "      <th>Vibration</th>\n",
       "      <th>Press(F)</th>\n",
       "      <th>Press(B)</th>\n",
       "      <th>NPress #1</th>\n",
       "      <th>NPress #2</th>\n",
       "      <th>Temp(F)</th>\n",
       "      <th>Temp(B)</th>\n",
       "      <th>Velocity #1</th>\n",
       "      <th>HC</th>\n",
       "      <th>RC</th>\n",
       "      <th>Unit</th>\n",
       "      <th>dir</th>\n",
       "      <th>Flow(F)</th>\n",
       "      <th>Flow(B)</th>\n",
       "    </tr>\n",
       "  </thead>\n",
       "  <tbody>\n",
       "    <tr>\n",
       "      <th>0</th>\n",
       "      <td>64.82</td>\n",
       "      <td>0.98</td>\n",
       "      <td>28.33</td>\n",
       "      <td>26.98</td>\n",
       "      <td>2.61</td>\n",
       "      <td>205.00</td>\n",
       "      <td>-0.20</td>\n",
       "      <td>-0.83</td>\n",
       "      <td>3.03</td>\n",
       "      <td>29.00</td>\n",
       "      <td>27.89</td>\n",
       "      <td>0.05</td>\n",
       "      <td>47.5</td>\n",
       "      <td>47.5</td>\n",
       "      <td>230.0</td>\n",
       "      <td>1</td>\n",
       "      <td>28.33</td>\n",
       "      <td>-26.98</td>\n",
       "    </tr>\n",
       "    <tr>\n",
       "      <th>1</th>\n",
       "      <td>64.83</td>\n",
       "      <td>0.96</td>\n",
       "      <td>27.98</td>\n",
       "      <td>26.58</td>\n",
       "      <td>2.49</td>\n",
       "      <td>204.97</td>\n",
       "      <td>-0.10</td>\n",
       "      <td>-0.83</td>\n",
       "      <td>3.07</td>\n",
       "      <td>29.02</td>\n",
       "      <td>27.89</td>\n",
       "      <td>0.04</td>\n",
       "      <td>47.5</td>\n",
       "      <td>47.5</td>\n",
       "      <td>230.0</td>\n",
       "      <td>1</td>\n",
       "      <td>27.98</td>\n",
       "      <td>-26.58</td>\n",
       "    </tr>\n",
       "    <tr>\n",
       "      <th>2</th>\n",
       "      <td>64.84</td>\n",
       "      <td>0.94</td>\n",
       "      <td>27.65</td>\n",
       "      <td>26.22</td>\n",
       "      <td>2.37</td>\n",
       "      <td>204.95</td>\n",
       "      <td>0.01</td>\n",
       "      <td>-0.83</td>\n",
       "      <td>3.10</td>\n",
       "      <td>29.04</td>\n",
       "      <td>27.90</td>\n",
       "      <td>0.04</td>\n",
       "      <td>47.5</td>\n",
       "      <td>47.5</td>\n",
       "      <td>230.0</td>\n",
       "      <td>1</td>\n",
       "      <td>27.65</td>\n",
       "      <td>-26.22</td>\n",
       "    </tr>\n",
       "    <tr>\n",
       "      <th>3</th>\n",
       "      <td>64.85</td>\n",
       "      <td>0.92</td>\n",
       "      <td>27.35</td>\n",
       "      <td>25.91</td>\n",
       "      <td>2.26</td>\n",
       "      <td>204.93</td>\n",
       "      <td>0.12</td>\n",
       "      <td>-0.83</td>\n",
       "      <td>3.14</td>\n",
       "      <td>29.06</td>\n",
       "      <td>27.90</td>\n",
       "      <td>0.04</td>\n",
       "      <td>47.5</td>\n",
       "      <td>47.5</td>\n",
       "      <td>230.0</td>\n",
       "      <td>1</td>\n",
       "      <td>27.35</td>\n",
       "      <td>-25.91</td>\n",
       "    </tr>\n",
       "    <tr>\n",
       "      <th>4</th>\n",
       "      <td>64.86</td>\n",
       "      <td>0.91</td>\n",
       "      <td>27.07</td>\n",
       "      <td>25.64</td>\n",
       "      <td>2.15</td>\n",
       "      <td>204.91</td>\n",
       "      <td>0.24</td>\n",
       "      <td>-0.83</td>\n",
       "      <td>3.18</td>\n",
       "      <td>29.08</td>\n",
       "      <td>27.91</td>\n",
       "      <td>0.03</td>\n",
       "      <td>47.5</td>\n",
       "      <td>47.5</td>\n",
       "      <td>230.0</td>\n",
       "      <td>1</td>\n",
       "      <td>27.07</td>\n",
       "      <td>-25.64</td>\n",
       "    </tr>\n",
       "    <tr>\n",
       "      <th>...</th>\n",
       "      <td>...</td>\n",
       "      <td>...</td>\n",
       "      <td>...</td>\n",
       "      <td>...</td>\n",
       "      <td>...</td>\n",
       "      <td>...</td>\n",
       "      <td>...</td>\n",
       "      <td>...</td>\n",
       "      <td>...</td>\n",
       "      <td>...</td>\n",
       "      <td>...</td>\n",
       "      <td>...</td>\n",
       "      <td>...</td>\n",
       "      <td>...</td>\n",
       "      <td>...</td>\n",
       "      <td>...</td>\n",
       "      <td>...</td>\n",
       "      <td>...</td>\n",
       "    </tr>\n",
       "    <tr>\n",
       "      <th>239742</th>\n",
       "      <td>2462.24</td>\n",
       "      <td>165.34</td>\n",
       "      <td>0.51</td>\n",
       "      <td>0.44</td>\n",
       "      <td>-0.03</td>\n",
       "      <td>-2.38</td>\n",
       "      <td>-2.06</td>\n",
       "      <td>-0.64</td>\n",
       "      <td>0.75</td>\n",
       "      <td>68.81</td>\n",
       "      <td>62.57</td>\n",
       "      <td>0.00</td>\n",
       "      <td>47.5</td>\n",
       "      <td>47.5</td>\n",
       "      <td>230.0</td>\n",
       "      <td>0</td>\n",
       "      <td>-0.51</td>\n",
       "      <td>0.44</td>\n",
       "    </tr>\n",
       "    <tr>\n",
       "      <th>239743</th>\n",
       "      <td>2462.25</td>\n",
       "      <td>165.32</td>\n",
       "      <td>0.51</td>\n",
       "      <td>0.43</td>\n",
       "      <td>-0.03</td>\n",
       "      <td>-2.38</td>\n",
       "      <td>-2.10</td>\n",
       "      <td>-0.64</td>\n",
       "      <td>0.75</td>\n",
       "      <td>68.81</td>\n",
       "      <td>62.57</td>\n",
       "      <td>0.00</td>\n",
       "      <td>47.5</td>\n",
       "      <td>47.5</td>\n",
       "      <td>230.0</td>\n",
       "      <td>0</td>\n",
       "      <td>-0.51</td>\n",
       "      <td>0.43</td>\n",
       "    </tr>\n",
       "    <tr>\n",
       "      <th>239744</th>\n",
       "      <td>2462.26</td>\n",
       "      <td>165.30</td>\n",
       "      <td>0.51</td>\n",
       "      <td>0.43</td>\n",
       "      <td>-0.03</td>\n",
       "      <td>-2.40</td>\n",
       "      <td>-2.15</td>\n",
       "      <td>-0.64</td>\n",
       "      <td>0.75</td>\n",
       "      <td>68.82</td>\n",
       "      <td>62.58</td>\n",
       "      <td>0.00</td>\n",
       "      <td>47.5</td>\n",
       "      <td>47.5</td>\n",
       "      <td>230.0</td>\n",
       "      <td>0</td>\n",
       "      <td>-0.51</td>\n",
       "      <td>0.43</td>\n",
       "    </tr>\n",
       "    <tr>\n",
       "      <th>239745</th>\n",
       "      <td>2462.27</td>\n",
       "      <td>165.28</td>\n",
       "      <td>0.51</td>\n",
       "      <td>0.43</td>\n",
       "      <td>-0.03</td>\n",
       "      <td>-2.41</td>\n",
       "      <td>-2.21</td>\n",
       "      <td>-0.64</td>\n",
       "      <td>0.75</td>\n",
       "      <td>68.83</td>\n",
       "      <td>62.59</td>\n",
       "      <td>0.00</td>\n",
       "      <td>47.5</td>\n",
       "      <td>47.5</td>\n",
       "      <td>230.0</td>\n",
       "      <td>0</td>\n",
       "      <td>-0.51</td>\n",
       "      <td>0.43</td>\n",
       "    </tr>\n",
       "    <tr>\n",
       "      <th>239746</th>\n",
       "      <td>2462.28</td>\n",
       "      <td>165.25</td>\n",
       "      <td>0.51</td>\n",
       "      <td>0.43</td>\n",
       "      <td>-0.03</td>\n",
       "      <td>-2.43</td>\n",
       "      <td>-2.26</td>\n",
       "      <td>-0.64</td>\n",
       "      <td>0.75</td>\n",
       "      <td>68.84</td>\n",
       "      <td>62.60</td>\n",
       "      <td>0.00</td>\n",
       "      <td>47.5</td>\n",
       "      <td>47.5</td>\n",
       "      <td>230.0</td>\n",
       "      <td>0</td>\n",
       "      <td>-0.51</td>\n",
       "      <td>0.43</td>\n",
       "    </tr>\n",
       "  </tbody>\n",
       "</table>\n",
       "<p>239747 rows × 18 columns</p>\n",
       "</div>"
      ],
      "text/plain": [
       "        Time (sec)  Position #1   Flow(F)   Flow(B)  Vibration  Press(F)  \\\n",
       "0            64.82         0.98     28.33     26.98       2.61    205.00   \n",
       "1            64.83         0.96     27.98     26.58       2.49    204.97   \n",
       "2            64.84         0.94     27.65     26.22       2.37    204.95   \n",
       "3            64.85         0.92     27.35     25.91       2.26    204.93   \n",
       "4            64.86         0.91     27.07     25.64       2.15    204.91   \n",
       "...            ...          ...       ...       ...        ...       ...   \n",
       "239742     2462.24       165.34      0.51      0.44      -0.03     -2.38   \n",
       "239743     2462.25       165.32      0.51      0.43      -0.03     -2.38   \n",
       "239744     2462.26       165.30      0.51      0.43      -0.03     -2.40   \n",
       "239745     2462.27       165.28      0.51      0.43      -0.03     -2.41   \n",
       "239746     2462.28       165.25      0.51      0.43      -0.03     -2.43   \n",
       "\n",
       "        Press(B)  NPress #1  NPress #2   Temp(F)   Temp(B)  Velocity #1    HC  \\\n",
       "0          -0.20      -0.83       3.03     29.00     27.89         0.05  47.5   \n",
       "1          -0.10      -0.83       3.07     29.02     27.89         0.04  47.5   \n",
       "2           0.01      -0.83       3.10     29.04     27.90         0.04  47.5   \n",
       "3           0.12      -0.83       3.14     29.06     27.90         0.04  47.5   \n",
       "4           0.24      -0.83       3.18     29.08     27.91         0.03  47.5   \n",
       "...          ...        ...        ...       ...       ...          ...   ...   \n",
       "239742     -2.06      -0.64       0.75     68.81     62.57         0.00  47.5   \n",
       "239743     -2.10      -0.64       0.75     68.81     62.57         0.00  47.5   \n",
       "239744     -2.15      -0.64       0.75     68.82     62.58         0.00  47.5   \n",
       "239745     -2.21      -0.64       0.75     68.83     62.59         0.00  47.5   \n",
       "239746     -2.26      -0.64       0.75     68.84     62.60         0.00  47.5   \n",
       "\n",
       "          RC   Unit dir  Flow(F)  Flow(B)  \n",
       "0       47.5  230.0   1    28.33   -26.98  \n",
       "1       47.5  230.0   1    27.98   -26.58  \n",
       "2       47.5  230.0   1    27.65   -26.22  \n",
       "3       47.5  230.0   1    27.35   -25.91  \n",
       "4       47.5  230.0   1    27.07   -25.64  \n",
       "...      ...    ...  ..      ...      ...  \n",
       "239742  47.5  230.0   0    -0.51     0.44  \n",
       "239743  47.5  230.0   0    -0.51     0.43  \n",
       "239744  47.5  230.0   0    -0.51     0.43  \n",
       "239745  47.5  230.0   0    -0.51     0.43  \n",
       "239746  47.5  230.0   0    -0.51     0.43  \n",
       "\n",
       "[239747 rows x 18 columns]"
      ]
     },
     "execution_count": 4,
     "metadata": {},
     "output_type": "execute_result"
    }
   ],
   "source": [
    "df_ab[2]"
   ]
  },
  {
   "cell_type": "code",
   "execution_count": 5,
   "id": "1f02d73c-7ef7-4896-8f67-a5f730917942",
   "metadata": {},
   "outputs": [
    {
     "data": {
      "text/plain": [
       "7"
      ]
     },
     "execution_count": 5,
     "metadata": {},
     "output_type": "execute_result"
    }
   ],
   "source": [
    "len(df_ab)"
   ]
  },
  {
   "cell_type": "code",
   "execution_count": 6,
   "id": "4d05c2be-20dc-44a0-96d6-b945ab674569",
   "metadata": {},
   "outputs": [
    {
     "data": {
      "text/plain": [
       "['No_Seal_HC17.5_RC17.5_Unit75_100Hz_230721_090648_0.xls',\n",
       " 'No_Seal_HC17.5_RC17.5_Unit75_100Hz_230721_094615_1.xls',\n",
       " 'No_Seal_HC35_RC35_Unit150_100Hz_230720_215639_0.xls',\n",
       " 'No_Seal_HC35_RC35_Unit150_100Hz_230720_223607_1.xls',\n",
       " 'No_Seal_HC47.5_RC47.5_Unit230_100Hz_230720_202955_0.xls',\n",
       " 'No_Seal_HC47.5_RC47.5_Unit230_100Hz_230720_210922_1.xls',\n",
       " 'No_Seal_HC5.7_RC8.5_Unit50_100Hz_230721_111511_0.xls',\n",
       " 'No_Seal_HC5.7_RC8.5_Unit50_100Hz_230721_115438_1.xls',\n",
       " 'No_Seal_HC5.7_RC8.5_Unit50_100Hz_230721_123405_2.xls',\n",
       " 'No_Seal_HC52.5_RC52.5_Unit230_100Hz_230721_072317_0.xls',\n",
       " 'No_Seal_HC70_RC70_Unit230_100Hz_230720_190347_0.xls',\n",
       " 'No_Seal_HC70_RC70_Unit230_100Hz_230720_194315_1.xls',\n",
       " 'No_Seal_HC70_RC70_Unit230_30Hz_230720_170850_0.xls']"
      ]
     },
     "execution_count": 6,
     "metadata": {},
     "output_type": "execute_result"
    }
   ],
   "source": [
    "ab_file"
   ]
  },
  {
   "cell_type": "markdown",
   "id": "dabff517-caba-4095-b613-a99140bc7fcb",
   "metadata": {
    "tags": [],
    "toc-hr-collapsed": true
   },
   "source": [
    "## Normal"
   ]
  },
  {
   "cell_type": "code",
   "execution_count": 25,
   "id": "75ec2c17-215f-4f56-8396-a7614625d5f3",
   "metadata": {},
   "outputs": [],
   "source": [
    "folder_path = 'D:/data/Normal'\n",
    "file_list = os.listdir('D:/data/Normal')\n",
    "nor_file = file_list\n",
    "\n",
    "df_nor = []\n",
    "df = pd.DataFrame()\n",
    "\n",
    "for i in range(len(file_list)):\n",
    "    #파일 불러오기\n",
    "    file_path = os.path.join(folder_path, file_list[i]) \n",
    "    df_file = pd.read_csv(file_path, sep='\\t', skiprows=range(9))\n",
    "    \n",
    "    #필요없는 변수 제거 및 전처리\n",
    "    df_file = df_file.shift(1, axis=1)\n",
    "    df_file.drop(['      No','Position #2', 'Velocity #2', '   NFLow'], axis=1, inplace=True) #불필요 변수 제거\n",
    "    df_file['Position #1'] = - df_file['Position #1'] + abs(df_file['Position #1'].max()) # Position 변수 전처리\n",
    "    df_file['Velocity #1'] = - df_file['Velocity #1']\n",
    "    \n",
    "    # 파일 이름에서 HC, RC, Unit 값을 추출\n",
    "    file_name = file_list[i]\n",
    "    hc_value = re.search(r'HC([\\d.]+)', file_name).group(1)\n",
    "    rc_value = re.search(r'RC([\\d.]+)', file_name).group(1)\n",
    "    unit_value = re.search(r'Unit([\\d.]+)', file_name).group(1)\n",
    "    \n",
    "    # HC와 RC 값을 데이터프레임에 추가\n",
    "    df_file['HC'] = float(hc_value)\n",
    "    df_file['RC'] = float(rc_value)\n",
    "    df_file['Unit'] = float(unit_value)    \n",
    "    \n",
    "    # 같은 데이터 파일끼리 합치기    \n",
    "    df = pd.concat([df, df_file])\n",
    "    \n",
    "    if i + 1 == len(file_list) or file_list[i + 1].endswith('_0.xls'):\n",
    "        \n",
    "        cut = None        \n",
    "        for j in range(len(df)):\n",
    "            if (df['Position #1'].iloc[j] < 1):  # 정상적이지 않은 실험 부분 잘라내기\n",
    "                cut = j\n",
    "                break\n",
    "                \n",
    "        df = df[cut:].reset_index(drop = True)\n",
    "        \n",
    "        # 왕복 운동의 방향 변수 생성\n",
    "        # 1은 전진, 0은 후퇴\n",
    "        df['dir'] = None\n",
    "\n",
    "        df.loc[round(df['Velocity #1'],2) >= 0.01, 'dir'] = 1\n",
    "        df.loc[round(df['Velocity #1'],2) <= -0.01, 'dir'] = 0\n",
    "        \n",
    "        for k in range(1, len(df)):\n",
    "            if df.loc[k, 'dir'] == None:\n",
    "                df.loc[k, 'dir'] = df.loc[k - 1, 'dir']\n",
    "                \n",
    "        # flow 변수 전처리                \n",
    "        df.loc[df['dir'] == 1, 'Flow(F)'] = df.loc[df['dir'] == 1, ' Flow(F)'] * 1\n",
    "        df.loc[df['dir'] == 0, 'Flow(F)'] = df.loc[df['dir'] == 0, ' Flow(F)'] * -1\n",
    "\n",
    "        df.loc[df['dir'] == 0, 'Flow(B)'] = df.loc[df['dir'] == 0, ' Flow(B)'] * 1\n",
    "        df.loc[df['dir'] == 1, 'Flow(B)'] = df.loc[df['dir'] == 1, ' Flow(B)'] * -1                \n",
    "\n",
    "        df_nor.append(df)\n",
    "        df = pd.DataFrame()"
   ]
  },
  {
   "cell_type": "code",
   "execution_count": 8,
   "id": "1117cf25-5f85-4a16-a931-200ee83f02ca",
   "metadata": {},
   "outputs": [
    {
     "data": {
      "text/plain": [
       "Index(['Time (sec)', 'Position #1', ' Flow(F)', ' Flow(B)', 'Vibration',\n",
       "       'Press(F)', 'Press(B)', 'NPress #1', 'NPress #2', ' Temp(F)',\n",
       "       ' Temp(B)', 'Velocity #1', 'HC', 'RC', 'Unit', 'dir', 'Flow(F)',\n",
       "       'Flow(B)'],\n",
       "      dtype='object')"
      ]
     },
     "execution_count": 8,
     "metadata": {},
     "output_type": "execute_result"
    }
   ],
   "source": [
    "df_ab[1].columns"
   ]
  },
  {
   "cell_type": "code",
   "execution_count": 9,
   "id": "5197f0ee-09ff-4ec5-992b-b16d2c32a7ae",
   "metadata": {
    "tags": []
   },
   "outputs": [
    {
     "data": {
      "text/plain": [
       "5"
      ]
     },
     "execution_count": 9,
     "metadata": {},
     "output_type": "execute_result"
    }
   ],
   "source": [
    "len(df_nor)"
   ]
  },
  {
   "cell_type": "code",
   "execution_count": 10,
   "id": "9a4bd99c-215b-492a-8084-0499cb851197",
   "metadata": {},
   "outputs": [
    {
     "data": {
      "text/plain": [
       "['Normal_HC10.3_RC6.6_Unit50_100Hz_230724_101709_0.xls',\n",
       " 'Normal_HC10.3_RC6.6_Unit50_100Hz_230724_105637_1.xls',\n",
       " 'Normal_HC10.3_RC6.6_Unit50_100Hz_230724_113604_2.xls',\n",
       " 'Normal_HC10.3_RC6.6_Unit50_100Hz_230724_121531_3.xls',\n",
       " 'Normal_HC17.5_RC17.5_Unit75_100Hz_230724_073921_0.xls',\n",
       " 'Normal_HC17.5_RC17.5_Unit75_100Hz_230724_081849_1.xls',\n",
       " 'Normal_HC17.5_RC17.5_Unit75_100Hz_230724_085816_2.xls',\n",
       " 'Normal_HC35_RC35_Unit150_100Hz_230721_215940_0.xls',\n",
       " 'Normal_HC35_RC35_Unit150_100Hz_230721_223908_1.xls',\n",
       " 'Normal_HC52.5_RC52.5_Unit230_100Hz_230721_201332_0.xls',\n",
       " 'Normal_HC52.5_RC52.5_Unit230_100Hz_230721_205259_1.xls',\n",
       " 'Normal_HC70_RC70_Unit230_100Hz_230721_182336_0.xls',\n",
       " 'Normal_HC70_RC70_Unit230_100Hz_230721_190303_1.xls']"
      ]
     },
     "execution_count": 10,
     "metadata": {},
     "output_type": "execute_result"
    }
   ],
   "source": [
    "nor_file"
   ]
  },
  {
   "cell_type": "code",
   "execution_count": 11,
   "id": "c80018d0-93e3-4ed4-a0ba-574937dc1bb7",
   "metadata": {},
   "outputs": [
    {
     "data": {
      "text/plain": [
       "['No_Seal_HC17.5_RC17.5_Unit75_100Hz_230721_090648_0.xls',\n",
       " 'No_Seal_HC17.5_RC17.5_Unit75_100Hz_230721_094615_1.xls',\n",
       " 'No_Seal_HC35_RC35_Unit150_100Hz_230720_215639_0.xls',\n",
       " 'No_Seal_HC35_RC35_Unit150_100Hz_230720_223607_1.xls',\n",
       " 'No_Seal_HC47.5_RC47.5_Unit230_100Hz_230720_202955_0.xls',\n",
       " 'No_Seal_HC47.5_RC47.5_Unit230_100Hz_230720_210922_1.xls',\n",
       " 'No_Seal_HC5.7_RC8.5_Unit50_100Hz_230721_111511_0.xls',\n",
       " 'No_Seal_HC5.7_RC8.5_Unit50_100Hz_230721_115438_1.xls',\n",
       " 'No_Seal_HC5.7_RC8.5_Unit50_100Hz_230721_123405_2.xls',\n",
       " 'No_Seal_HC52.5_RC52.5_Unit230_100Hz_230721_072317_0.xls',\n",
       " 'No_Seal_HC70_RC70_Unit230_100Hz_230720_190347_0.xls',\n",
       " 'No_Seal_HC70_RC70_Unit230_100Hz_230720_194315_1.xls',\n",
       " 'No_Seal_HC70_RC70_Unit230_30Hz_230720_170850_0.xls']"
      ]
     },
     "execution_count": 11,
     "metadata": {},
     "output_type": "execute_result"
    }
   ],
   "source": [
    "ab_file"
   ]
  },
  {
   "cell_type": "code",
   "execution_count": 12,
   "id": "fe607091-a2dd-49d1-a2b1-02acdacd2392",
   "metadata": {},
   "outputs": [
    {
     "data": {
      "text/plain": [
       "7"
      ]
     },
     "execution_count": 12,
     "metadata": {},
     "output_type": "execute_result"
    }
   ],
   "source": [
    "len(df_ab)"
   ]
  },
  {
   "cell_type": "code",
   "execution_count": 13,
   "id": "e9d8ab76-6d48-42f7-aeaf-77260d20c3d4",
   "metadata": {},
   "outputs": [
    {
     "data": {
      "text/plain": [
       "5"
      ]
     },
     "execution_count": 13,
     "metadata": {},
     "output_type": "execute_result"
    }
   ],
   "source": [
    "len(df_nor)"
   ]
  },
  {
   "cell_type": "markdown",
   "id": "92d0ddd2-4524-4e71-adda-cb2e0750ad1d",
   "metadata": {
    "tags": []
   },
   "source": [
    "# 시각화"
   ]
  },
  {
   "cell_type": "markdown",
   "id": "93367fc5-8895-4c06-8e8a-ec03c6b669b8",
   "metadata": {
    "tags": []
   },
   "source": [
    "## 정상과 비정상 데이터 비교"
   ]
  },
  {
   "cell_type": "code",
   "execution_count": 14,
   "id": "24449a84-3007-41a2-a4f1-738ccc820805",
   "metadata": {},
   "outputs": [],
   "source": [
    "num = [(0,1), (2,1), (3,4), (4,5)]"
   ]
  },
  {
   "cell_type": "code",
   "execution_count": 15,
   "id": "e582a70b-a916-4862-9830-c17c9fe3fc98",
   "metadata": {},
   "outputs": [],
   "source": [
    "col_list = df_nor[0].columns"
   ]
  },
  {
   "cell_type": "code",
   "execution_count": 16,
   "id": "d85d1746-a52b-4124-96f5-9cdc0f332b70",
   "metadata": {},
   "outputs": [
    {
     "data": {
      "text/plain": [
       "Index(['Time (sec)', 'Position #1', ' Flow(F)', ' Flow(B)', 'Vibration',\n",
       "       'Press(F)', 'Press(B)', 'NPress #1', 'NPress #2', ' Temp(F)',\n",
       "       ' Temp(B)', 'Velocity #1', 'HC', 'RC', 'Unit', 'dir', 'Flow(F)',\n",
       "       'Flow(B)'],\n",
       "      dtype='object')"
      ]
     },
     "execution_count": 16,
     "metadata": {},
     "output_type": "execute_result"
    }
   ],
   "source": [
    "df_nor[0].columns"
   ]
  },
  {
   "cell_type": "markdown",
   "id": "3d953170-b75b-43a1-bac2-5194955da0a6",
   "metadata": {
    "tags": []
   },
   "source": [
    "for i,k in num:\n",
    "    df = df_nor[i][:20000]\n",
    "    df2 = df_ab[k][:20000]\n",
    "    \n",
    "    for j in [1,4, 11]:\n",
    "\n",
    "        fig2 = make_subplots(rows=1, cols=1)\n",
    "        fig2.add_trace(\n",
    "            go.Scatter(x=df['Time (sec)'], y=df[col_list[j]], mode='lines', name=df.columns[j])\n",
    "        )\n",
    "        fig2.show()\n",
    "\n",
    "        fig2 = make_subplots(rows=1, cols=1)\n",
    "        fig2.add_trace(\n",
    "            go.Scatter(x=df2['Time (sec)'], y=df2[col_list[j]], mode='lines', name=df.columns[j])\n",
    "        )\n",
    "        fig2.show()\n",
    "\n",
    "    for h in [16, 5, 7, 9]:\n",
    "\n",
    "        fig2 = make_subplots(rows=1, cols=1)\n",
    "        fig2.add_trace(\n",
    "            go.Scatter(x=df['Time (sec)'], y=df[col_list[h]], mode='lines', name=df.columns[h])\n",
    "        )\n",
    "        fig2.add_trace(\n",
    "        go.Scatter(x=df['Time (sec)'], y=df[col_list[h+1]], mode='lines', name=df.columns[h+1])\n",
    "        )\n",
    "        fig2.show()\n",
    "\n",
    "        fig2 = make_subplots(rows=1, cols=1)\n",
    "        fig2.add_trace(\n",
    "            go.Scatter(x=df2['Time (sec)'], y=df2[col_list[h]], mode='lines', name=df2.columns[h])\n",
    "        )\n",
    "        fig2.add_trace(\n",
    "        go.Scatter(x=df2['Time (sec)'], y=df2[col_list[h+1]], mode='lines', name=df2.columns[h+1])\n",
    "        )    \n",
    "        fig2.show()"
   ]
  },
  {
   "cell_type": "markdown",
   "id": "fcfd4b99-a15f-4741-9f3d-117714877604",
   "metadata": {
    "tags": []
   },
   "source": [
    "## 정상데이터 확인"
   ]
  },
  {
   "cell_type": "markdown",
   "id": "0ebf8be6-ce44-4d7f-949b-2acd9e15a0e8",
   "metadata": {
    "tags": []
   },
   "source": [
    "for i in range(len(df_nor)):\n",
    "    df = df_nor[i][:20000]\n",
    "    \n",
    "    fig2 = make_subplots(rows=1, cols=2)\n",
    "    fig2 = go.Figure()\n",
    "    fig2.add_trace(\n",
    "        go.Scatter(x=df['Time (sec)'], y=df['Flow(F)'], mode='lines', name='Flow(F)')\n",
    "    )    \n",
    "    fig2.add_trace(\n",
    "        go.Scatter(x=df['Time (sec)'], y=df['Flow(B)'], mode='lines', name='Flow(B)')\n",
    "    )   \n",
    "    fig2.show()    \n",
    "\n",
    "    \n",
    "    \n",
    "    fig2 = make_subplots(rows=1, cols=2)\n",
    "    fig2 = go.Figure()\n",
    "    fig2.add_trace(\n",
    "        go.Scatter(x=df['Time (sec)'], y=df['Velocity #1'], mode='lines', name='Velocity')\n",
    "    )\n",
    "    fig2.add_trace(\n",
    "        go.Scatter(x=df['Time (sec)'], y=df['dir'], mode='lines', name='dir')\n",
    "    )    \n",
    "    fig2.update_layout(title_text='Position #1')\n",
    "    fig2.show()"
   ]
  },
  {
   "cell_type": "markdown",
   "id": "78f416fe-7fec-40d6-a383-3a164120f314",
   "metadata": {
    "tags": []
   },
   "source": [
    "## 비정상데이터 확인"
   ]
  },
  {
   "cell_type": "markdown",
   "id": "9b8f3a37-5364-4839-8e20-80e75d0308a5",
   "metadata": {
    "tags": []
   },
   "source": [
    "for i in range(len(df_ab)):\n",
    "    df = df_ab[i][:20000]\n",
    "    \n",
    "    fig2 = make_subplots(rows=1, cols=2)\n",
    "    fig2 = go.Figure()\n",
    "    fig2.add_trace(\n",
    "        go.Scatter(x=df['Time (sec)'], y=df['Flow(F)'], mode='lines', name='Flow(F)')\n",
    "    )    \n",
    "    fig2.add_trace(\n",
    "        go.Scatter(x=df['Time (sec)'], y=df['Flow(B)'], mode='lines', name='Flow(B)')\n",
    "    )   \n",
    "    fig2.show()    \n",
    "\n",
    "    \n",
    "    \n",
    "    fig2 = make_subplots(rows=1, cols=2)\n",
    "    fig2 = go.Figure()\n",
    "    fig2.add_trace(\n",
    "        go.Scatter(x=df['Time (sec)'], y=df['Velocity #1'], mode='lines', name='Velocity')\n",
    "    )\n",
    "    fig2.add_trace(\n",
    "        go.Scatter(x=df['Time (sec)'], y=df['dir'], mode='lines', name='dir')\n",
    "    )    \n",
    "    fig2.update_layout(title_text='Position #1')\n",
    "    fig2.show()"
   ]
  },
  {
   "cell_type": "code",
   "execution_count": null,
   "id": "58cf18fd-8a71-4b05-8b59-95dd27622ac1",
   "metadata": {},
   "outputs": [],
   "source": []
  }
 ],
 "metadata": {
  "kernelspec": {
   "display_name": "Python 3 (ipykernel)",
   "language": "python",
   "name": "python3"
  },
  "language_info": {
   "codemirror_mode": {
    "name": "ipython",
    "version": 3
   },
   "file_extension": ".py",
   "mimetype": "text/x-python",
   "name": "python",
   "nbconvert_exporter": "python",
   "pygments_lexer": "ipython3",
   "version": "3.9.13"
  }
 },
 "nbformat": 4,
 "nbformat_minor": 5
}
